{
 "cells": [
  {
   "cell_type": "markdown",
   "id": "94f66ad6-78f3-4a9d-b124-6d1ead4e9235",
   "metadata": {},
   "source": [
    "# Instructions on how to use these two scripts:vior column."
   ]
  },
  {
   "cell_type": "markdown",
   "id": "d5bf1eb9-5ed9-4544-a3a4-26eb082fb04f",
   "metadata": {},
   "source": [
    "### Script 1: Sequence Extraction from Image Files\n",
    "Specify the directory: Replace the placeholder in the line directory = r\"Image\\Directory\\...\" with the path to your directory where the image files are located.\n",
    "Run the script: After specifying the directory, you can run the script. It will create a CSV file named “output.csv” in the same directory as the script. This file contains the start number, stop number, and length of each sequence of consecutive numbers."
   ]
  },
  {
   "cell_type": "markdown",
   "id": "fd6349fa-033b-4067-9a66-647a2ab405fb",
   "metadata": {},
   "source": [
    "### Script 2: Behavior Binary Array Creation\n",
    "Load your CSV file: Replace the placeholder in the line \"df = pd.read_csv(r\"...\\output.csv\")\" with the path to your CSV file. This should be the “output.csv” file created by the first script.\n",
    "Specify the total number of frames: Replace the number in the line total_frames = 12613 with the total number of frames in your video.\n",
    "Specify the frame rate and time step: Replace the numbers in the lines frame_rate = 30 and time_step = 0.1 with the frame rate of your video and the desired time step, respectively. The frame rate should be in frames per second, and the time step should be in seconds.\n",
    "Specify the directory for saving CSV files: Replace the placeholder in the line \"df.to_csv(f'Director\\\\\\for\\\\saving\\\\csv\\\\{behavior}_binary_array.csv', index=True)\" with the directory where you want to save the CSV files.\n",
    "Run the script: After specifying the CSV file, total number of frames, frame rate, time step, and directory for saving CSV files, you can run the script. It will create a separate CSV file for each unique behavior in the data. Each file contains a time column and a behavior column."
   ]
  },
  {
   "cell_type": "markdown",
   "id": "4f33fc04-f23e-4123-b7d9-454cc4ba68f1",
   "metadata": {},
   "source": [
    "# Part 1: Sequence Extraction from Image Files"
   ]
  },
  {
   "cell_type": "code",
   "execution_count": null,
   "id": "cc3261f2-1341-43fc-b3cf-3160b4660fd1",
   "metadata": {},
   "outputs": [],
   "source": [
    "import os\n",
    "import csv\n",
    "import re\n",
    "\n",
    "# Specify the directory where your files are\n",
    "directory = r\"Image\\Directory\\...\"\n",
    "\n",
    "# This will get a list of all filenames in the directory\n",
    "filenames = os.listdir(directory)\n",
    "\n",
    "# Filter out any files that aren't .png files\n",
    "filenames = [f for f in filenames if f.endswith(\".png\")]\n",
    "\n",
    "# Sort the filenames\n",
    "filenames.sort()\n",
    "\n",
    "# This regular expression will match the number at the end of each filename\n",
    "regex = re.compile(r\"(\\d+)\\.png$\")\n",
    "\n",
    "# Initialize an empty list to store sequences of consecutive numbers\n",
    "sequences = []\n",
    "\n",
    "# Initialize start and prev variables\n",
    "start = None\n",
    "prev = None\n",
    "\n",
    "# Iterate over the sorted filenames\n",
    "for i, filename in enumerate(filenames): \n",
    "    # Search for the number at the end of the filename\n",
    "    match = regex.search(filename)\n",
    "    if match:\n",
    "        # If a number is found, convert it to an integer\n",
    "        current = int(match.group(1))\n",
    "        # If this is the first number or if the number is not consecutive with the previous number,\n",
    "        # start a new sequence\n",
    "        if start is None:\n",
    "            start = current\n",
    "        elif current != prev + 1:\n",
    "            # If the number is not consecutive with the previous number, add the previous sequence to the list\n",
    "            sequences.append((start, prev, prev-start+1))\n",
    "            # And start a new sequence\n",
    "            start = current\n",
    "        # Update the previous number\n",
    "        prev = current\n",
    "\n",
    "# Don't forget to add the last sequence\n",
    "if start is not None:\n",
    "    sequences.append((start, prev, prev-start+1))\n",
    "\n",
    "# Now we write our sequences to a CSV file\n",
    "with open(\"output.csv\", \"w\", newline=\"\") as f:\n",
    "    writer = csv.writer(f)\n",
    "    # Write the header row\n",
    "    writer.writerow([\"Start\", \"Stop\", \"Length\"])\n",
    "    # Write the sequences\n",
    "    writer.writerows(sequences)\n"
   ]
  },
  {
   "cell_type": "markdown",
   "id": "fca27347-37e1-4c42-802c-4ff851419841",
   "metadata": {},
   "source": [
    "# Part 2: Behavior Binary Array Creation"
   ]
  },
  {
   "cell_type": "code",
   "execution_count": null,
   "id": "4e5ddddc-d322-4c1d-85d0-548749224a57",
   "metadata": {},
   "outputs": [],
   "source": [
    "import numpy as np\n",
    "import pandas as pd\n",
    "\n",
    "# Define the frame rate of your video\n",
    "frame_rate = 30  # frames per second\n",
    "time_step = 0.1  # seconds\n",
    "\n",
    "# Load your CSV file\n",
    "df = pd.read_csv(r\"...\\output.csv\")\n",
    "\n",
    "# Total number of frames in your video\n",
    "total_frames = 12613\n",
    "\n",
    "# Check if the maximum frame number exceeds the total number of frames in the video\n",
    "if df['Stop'].max() > total_frames:\n",
    "    print(\"Warning: The maximum frame number in the data exceeds the total number of frames in the video.\")\n",
    "\n",
    "# Calculate the total duration in time steps of 0.1 seconds\n",
    "total_duration = total_frames / (frame_rate * time_step)\n",
    "\n",
    "# Create a binary array for each unique behavior in the data\n",
    "# The binary array is initially filled with zeros\n",
    "behaviors = df['Behavior'].unique()\n",
    "binary_arrays = {behavior: np.zeros(int(total_duration)) for behavior in behaviors}\n",
    "\n",
    "# Fill in the binary arrays\n",
    "for _, row in df.iterrows():\n",
    "    # Convert frames to time steps of 0.1 seconds\n",
    "    start, stop = row['Start'] / frame_rate, row['Stop'] / frame_rate\n",
    "    behavior = row['Behavior']\n",
    "    # Fill in the binary array for the given behavior\n",
    "    # The start and stop indices are converted to integers because array indices must be integers\n",
    "    binary_arrays[behavior][int(start):int(stop)] = 1\n",
    "\n",
    "# Save these binary arrays as CSV files\n",
    "for behavior, binary_array in binary_arrays.items():\n",
    "    # Create a DataFrame with time and behavior columns\n",
    "    df = pd.DataFrame({\n",
    "        'Time': pd.to_datetime(np.arange(len(binary_array)) / (1/time_step), unit='s').time,\n",
    "        'Behavior': binary_array\n",
    "    })\n",
    "    # Save the DataFrame as a CSV file\n",
    "    df.to_csv(f'Director\\\\\\for\\\\saving\\\\csv\\\\{behavior}_binary_array.csv', index=True)\n"
   ]
  }
 ],
 "metadata": {
  "kernelspec": {
   "display_name": "Python 3 (ipykernel)",
   "language": "python",
   "name": "python3"
  },
  "language_info": {
   "codemirror_mode": {
    "name": "ipython",
    "version": 3
   },
   "file_extension": ".py",
   "mimetype": "text/x-python",
   "name": "python",
   "nbconvert_exporter": "python",
   "pygments_lexer": "ipython3",
   "version": "3.12.4"
  }
 },
 "nbformat": 4,
 "nbformat_minor": 5
}
